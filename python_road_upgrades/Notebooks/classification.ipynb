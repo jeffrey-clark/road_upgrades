{
 "cells": [
  {
   "cell_type": "code",
   "execution_count": 1,
   "metadata": {
    "collapsed": true
   },
   "outputs": [],
   "source": [
    "import os\n",
    "import sys\n",
    "import re\n",
    "import pandas as pd\n",
    "import numpy as np\n",
    "\n",
    "from sklearn.model_selection import train_test_split\n",
    "from sklearn.ensemble import RandomForestClassifier, GradientBoostingClassifier, AdaBoostClassifier\n",
    "from sklearn import metrics\n",
    "from sklearn.model_selection import GridSearchCV\n",
    "\n",
    "# -------------- NESTED PATH CORRECTION -------------------------------- #\n",
    "\n",
    "# For all script files, we add the parent directory to the system path\n",
    "cwd = re.sub(r\"[\\\\]\", \"/\", os.getcwd())\n",
    "cwd_list = cwd.split(\"/\")\n",
    "path = sys.argv[0]\n",
    "path_list = path.split(\"/\")\n",
    "# either the entire filepath is entered as command i python\n",
    "if cwd_list[0:3] == path_list[0:3]:\n",
    "    full_path = path\n",
    "# or a relative path is entered, in which case we append the path to the cwd_path\n",
    "else:\n",
    "    full_path = cwd + \"/\" + path\n",
    "# remove the overlap\n",
    "root_dir = re.search(r\"(^.+python_road_upgrades)\", full_path).group(1)\n",
    "sys.path.append(root_dir)\n",
    "\n",
    "# ---------------------------------------------------------------------- #"
   ]
  },
  {
   "cell_type": "markdown",
   "source": [
    "# Determining the threshold of the heuristic model\n",
    "\n",
    "## 1.1. Import the Data Sets"
   ],
   "metadata": {
    "collapsed": false
   }
  },
  {
   "cell_type": "code",
   "execution_count": 16,
   "outputs": [
    {
     "name": "stdout",
     "output_type": "stream",
     "text": [
      "MultiIndex([(        'B4_max',       'road_id'),\n",
      "            (        'B4_max',      'left_avg'),\n",
      "            (        'B4_max',     'right_avg'),\n",
      "            (        'B4_max',      'road_upg'),\n",
      "            (        'B4_max',  'left_avg_upg'),\n",
      "            (        'B4_max', 'right_avg_upg'),\n",
      "            (        'B4_max',   'dist_median'),\n",
      "            (        'B4_max',     'dist_mean'),\n",
      "            (        'B4_max',         'share'),\n",
      "            (        'B4_min',       'road_id'),\n",
      "            (        'B4_min',      'left_avg'),\n",
      "            (        'B4_min',     'right_avg'),\n",
      "            (        'B4_min',      'road_upg'),\n",
      "            (        'B4_min',  'left_avg_upg'),\n",
      "            (        'B4_min', 'right_avg_upg'),\n",
      "            (        'B4_min',   'dist_median'),\n",
      "            (        'B4_min',     'dist_mean'),\n",
      "            (        'B4_min',         'share'),\n",
      "            (       'B4_mean',       'road_id'),\n",
      "            (       'B4_mean',      'left_avg'),\n",
      "            (       'B4_mean',     'right_avg'),\n",
      "            (        'B8_max',       'road_id'),\n",
      "            (        'B8_max',      'left_avg'),\n",
      "            (        'B8_max',     'right_avg'),\n",
      "            (        'B8_max',      'road_upg'),\n",
      "            (        'B8_max',  'left_avg_upg'),\n",
      "            (        'B8_max', 'right_avg_upg'),\n",
      "            (        'B8_max',   'dist_median'),\n",
      "            (        'B8_max',     'dist_mean'),\n",
      "            (        'B8_max',         'share'),\n",
      "            (        'B8_min',       'road_id'),\n",
      "            (        'B8_min',      'left_avg'),\n",
      "            (        'B8_min',     'right_avg'),\n",
      "            (        'B8_min',      'road_upg'),\n",
      "            (        'B8_min',  'left_avg_upg'),\n",
      "            (        'B8_min', 'right_avg_upg'),\n",
      "            (        'B8_min',   'dist_median'),\n",
      "            (        'B8_min',     'dist_mean'),\n",
      "            (        'B8_min',         'share'),\n",
      "            (       'B8_mean',       'road_id'),\n",
      "            (       'B8_mean',      'left_avg'),\n",
      "            (       'B8_mean',     'right_avg'),\n",
      "            ('B4_diff_factor',       'road_id'),\n",
      "            ('B8_diff_factor',       'road_id')],\n",
      "           )\n"
     ]
    }
   ],
   "source": [
    "# first the manual visual identifications (true values)\n",
    "visual = pd.read_excel(f'{root_dir}/Imports/visual_classification_2020_2021_05_07.xlsx').set_index(['road_id', 'subroad_id'])\n",
    "visual[visual['upgrade'] != 1] = 0  # replace unclear and NaN with 0\n",
    "\n",
    "# followed by the analysis data\n",
    "def import_analysis(data_fp):\n",
    "    data = pd.read_excel(data_fp,  header=[0,1], index_col=[0]).set_index(\n",
    "        [('road_id', 'Unnamed: 1_level_1'), ('subroad_id', 'Unnamed: 2_level_1')])\n",
    "    data.index.names = ['road_id', \"subroad_id\"]\n",
    "    data.columns.names = [None, None]\n",
    "    data = data.drop([('upgrade', 'bright_B4_diff'), ('upgrade', 'bright_B4')], axis=1)\n",
    "    return data\n",
    "\n",
    "data_fp = f\"{root_dir}/Imports/analysis_2020_2021_05_07_pct_40.xlsx\" # a copy taken from Exports/Roads/composites2\n",
    "#data_fp = f\"{root_dir}/Imports/analysis_2020_2021_05_07_pct_30.xlsx\" # a copy taken from Exports/Roads/composites2\n",
    "data = import_analysis(data_fp)\n",
    "\n",
    "print(data.columns)\n",
    "# 1.2 Split the data into training and test sets\n",
    "def get_regressors(df):\n",
    "    return df[[\n",
    "        ('B4_min', 'road_id'),\n",
    "        ('B4_min', 'left_avg'),\n",
    "        ('B4_min', 'right_avg'),\n",
    "        #('B4_mean', 'road_id'),\n",
    "        #('B4_mean', 'left_avg'),\n",
    "        #('B4_mean', 'right_avg'),\n",
    "        ('B4_min', 'dist_median'),\n",
    "        ('B4_min', 'dist_mean'),\n",
    "        ('B4_min', 'share'),\n",
    "        ('B4_diff_factor', 'road_id')\n",
    "\n",
    "    ]]\n",
    "\n",
    "X = get_regressors(data)\n",
    "y = visual['upgrade'].astype('int')  # Labels\n"
   ],
   "metadata": {
    "collapsed": false,
    "pycharm": {
     "name": "#%%\n"
    }
   }
  },
  {
   "cell_type": "markdown",
   "source": [
    "What is the average side values?"
   ],
   "metadata": {
    "collapsed": false,
    "pycharm": {
     "name": "#%% md\n"
    }
   }
  },
  {
   "cell_type": "code",
   "source": [
    "import matplotlib.pyplot as plt\n",
    "df = X\n",
    "df[('', 'upgraded')] = y\n",
    "\n",
    "df = df.loc[((df[('B4_min', 'road_id')] <= -50) | (df[('B4_min', 'road_id')] >= 50)), :]\n",
    "\n",
    "df_u = df.loc[(df[(\"\", \"upgraded\")] == 1), :]\n",
    "df_n = df.loc[(df[(\"\", \"upgraded\")] == 0), :]\n",
    "\n",
    "left_avg_pct_u = df_u[('B4_min', 'left_avg')]/df_u[('B4_min', 'road_id')]\n",
    "right_avg_pct_u = df_u[('B4_min', 'right_avg')]/df_u[('B4_min', 'road_id')]\n",
    "avg_pct_u = 0.5 * (left_avg_pct_u + right_avg_pct_u)\n",
    "\n",
    "left_avg_pct_n = df_n[('B4_min', 'left_avg')]/df_n[('B4_min', 'road_id')]\n",
    "right_avg_pct_n = df_n[('B4_min', 'right_avg')]/df_n[('B4_min', 'road_id')]\n",
    "avg_pct_n = 0.5 * (left_avg_pct_n + right_avg_pct_n)\n",
    "\n",
    "print(\"left avg\", avg_pct_u.describe())\n",
    "print(\"right avg\", avg_pct_n.describe())\n",
    "\n",
    "\n",
    "#left_avg_pct.hist()\n",
    "#right_avg_pct.hist()\n",
    "#avg_pct_u.plot(kind='hist', density=True)\n",
    "avg_pct_u.hist(alpha=0.5)\n",
    "avg_pct_n.hist(alpha=0.5)\n",
    "plt.show()\n",
    "#plt.show()\n",
    "\n"
   ],
   "metadata": {
    "collapsed": false,
    "pycharm": {
     "name": "#%%\n"
    }
   },
   "execution_count": 9,
   "outputs": [
    {
     "name": "stderr",
     "output_type": "stream",
     "text": [
      "<ipython-input-9-47ea91ef91b7>:3: SettingWithCopyWarning: \n",
      "A value is trying to be set on a copy of a slice from a DataFrame.\n",
      "Try using .loc[row_indexer,col_indexer] = value instead\n",
      "\n",
      "See the caveats in the documentation: https://pandas.pydata.org/pandas-docs/stable/user_guide/indexing.html#returning-a-view-versus-a-copy\n",
      "  df[('', 'upgraded')] = y\n"
     ]
    },
    {
     "name": "stdout",
     "output_type": "stream",
     "text": [
      "left avg count    150.000000\n",
      "mean       0.098243\n",
      "std        0.224732\n",
      "min       -0.787582\n",
      "25%       -0.016394\n",
      "50%        0.091331\n",
      "75%        0.219828\n",
      "max        0.728815\n",
      "dtype: float64\n",
      "right avg count    101.000000\n",
      "mean       0.415828\n",
      "std        0.445289\n",
      "min       -0.465228\n",
      "25%        0.134915\n",
      "50%        0.341264\n",
      "75%        0.617361\n",
      "max        1.919961\n",
      "dtype: float64\n"
     ]
    },
    {
     "data": {
      "text/plain": "<Figure size 432x288 with 1 Axes>",
      "image/png": "[encoded data removed]"
     },
     "metadata": {
      "needs_background": "light"
     },
     "output_type": "display_data"
    }
   ]
  },
  {
   "cell_type": "code",
   "execution_count": 4,
   "outputs": [
    {
     "data": {
      "text/plain": "<Figure size 432x288 with 1 Axes>",
      "image/png": "[encoded data removed]"
     },
     "metadata": {
      "needs_background": "light"
     },
     "output_type": "display_data"
    }
   ],
   "source": [
    "avg_pct_u.hist(density=True, alpha=0.5)\n",
    "avg_pct_n.hist(density=True, alpha=0.5)\n",
    "plt.show()"
   ],
   "metadata": {
    "collapsed": false,
    "pycharm": {
     "name": "#%%\n"
    }
   }
  },
  {
   "cell_type": "code",
   "execution_count": 51,
   "outputs": [],
   "source": [
    "# export the DF\n",
    "\n",
    "df_e = pd.DataFrame({'avg_upgraded': avg_pct_u, 'avg_not_upgraded': avg_pct_n})\n",
    "df_e.reset_index().to_excel('average_histogram.xlsx', index=False)"
   ],
   "metadata": {
    "collapsed": false,
    "pycharm": {
     "name": "#%%\n"
    }
   }
  },
  {
   "cell_type": "code",
   "execution_count": 3,
   "outputs": [],
   "source": [
    "# X[('', 'upgraded')] = y\n",
    "#\n",
    "# upgraded_roads = X.loc[X[(\"\", \"upgraded\")] == 1, :]\n",
    "# other_roads = X.loc[X[(\"\", \"upgraded\")] != 1, :]\n",
    "# upgraded_roads"
   ],
   "metadata": {
    "collapsed": false,
    "pycharm": {
     "name": "#%%\n"
    }
   }
  },
  {
   "cell_type": "code",
   "execution_count": 4,
   "outputs": [],
   "source": [
    "# What is the average B4_min on the road for upgraded vs not upgraded\n",
    "#\n",
    "# upg_mean = upgraded_roads[('B4_min', 'road_id')].mean()\n",
    "# print(upg_mean)\n",
    "#\n",
    "# upg_other = other_roads[('B4_min', 'road_id')].mean()\n",
    "# print(upg_other)"
   ],
   "metadata": {
    "collapsed": false,
    "pycharm": {
     "name": "#%%\n"
    }
   }
  },
  {
   "cell_type": "markdown",
   "source": [
    "Exploring Heuristics"
   ],
   "metadata": {
    "collapsed": false
   }
  },
  {
   "cell_type": "code",
   "execution_count": 20,
   "outputs": [
    {
     "name": "stdout",
     "output_type": "stream",
     "text": [
      "MAX ACCURACY IS 0.9359605911330049\n",
      "THRESH IS [0.28]\n",
      "Heuristic Model Accuracy: 0.9130434782608695\n"
     ]
    }
   ],
   "source": [
    "from sklearn.utils import check_random_state\n",
    "\n",
    "# check for NaN and drop\n",
    "nan_index = X[X.isnull().any(1)].index\n",
    "X = X.drop(nan_index, axis=0)\n",
    "y = y.drop(nan_index, axis=0)\n",
    "\n",
    "# Split dataset into training set and test set\n",
    "#     - argument test_size = 0.3: 70% training and 30% test\n",
    "X_train, X_test, y_train, y_test = train_test_split(X, y, test_size=0.1, random_state=5350)\n",
    "\n",
    "\n",
    "\n",
    "## HERE WE SAY THAT HEUERISTIC IS THE CASE WHERE THERE ARE\n",
    "# h_pred = (\n",
    "#     (X_test[('B4_min', 'road_id')] < 0) &\n",
    "#     (X_test[('B4_min', 'left_avg')] > 0.75 * X_test[('B4_min', 'road_id')]) &\n",
    "#     (X_test[('B4_min', 'right_avg')] > 0.75 * X_test[('B4_min', 'road_id')]) #&\n",
    "#     #(X_test[('B4_min', 'left_avg')] > X_test[('B4_min', 'road_id')] + 20) &\n",
    "#     #(X_test[('B4_min', 'right_avg')] > X_test[('B4_min', 'road_id')] + 20)\n",
    "#          ).astype('int')\n",
    "\n",
    "# compute the optimal share threshold for the training data\n",
    "accuracy_dic = {}\n",
    "for t in range(0, 101):\n",
    "    share = t/100\n",
    "    h_pred = (\n",
    "        (X_train[('B4_min', 'share')] > share)\n",
    "    ).astype('int')\n",
    "    a = metrics.accuracy_score(y_train, h_pred)\n",
    "    if a not in list(accuracy_dic.keys()):\n",
    "        accuracy_dic[a] = [share]\n",
    "    else:\n",
    "        accuracy_dic[a].append(share)\n",
    "\n",
    "max_key = max(list(accuracy_dic.keys()))\n",
    "print(\"MAX ACCURACY IS\", max_key)\n",
    "print(\"THRESH IS\", accuracy_dic[max_key])\n",
    "\n",
    "h_pred_share_test = (\n",
    "    (X_test[('B4_min', 'share')] > accuracy_dic[max_key][0])\n",
    ").astype('int')\n",
    "\n",
    "\n",
    "print(\"Heuristic Model Accuracy:\", metrics.accuracy_score(y_test, h_pred_share_test))\n",
    "#print(\"Random Forest Model Accuracy:\", metrics.accuracy_score(y_test, h_pred))\n",
    "\n",
    "\n",
    "#exit()"
   ],
   "metadata": {
    "collapsed": false,
    "pycharm": {
     "name": "#%%\n"
    }
   }
  }
 ],
 "metadata": {
  "kernelspec": {
   "display_name": "Python 3",
   "language": "python",
   "name": "python3"
  },
  "language_info": {
   "codemirror_mode": {
    "name": "ipython",
    "version": 2
   },
   "file_extension": ".py",
   "mimetype": "text/x-python",
   "name": "python",
   "nbconvert_exporter": "python",
   "pygments_lexer": "ipython2",
   "version": "2.7.6"
  }
 },
 "nbformat": 4,
 "nbformat_minor": 0
}