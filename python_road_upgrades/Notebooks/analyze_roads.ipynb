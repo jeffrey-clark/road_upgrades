{
 "cells": [
  {
   "cell_type": "code",
   "execution_count": 1,
   "metadata": {
    "collapsed": true
   },
   "outputs": [],
   "source": [
    "import os\n",
    "import sys\n",
    "import re\n",
    "import pandas as pd\n",
    "import numpy as np\n",
    "\n",
    "#-------------- NESTED PATH CORRECTION --------------------------------#\n",
    "\n",
    "# For all script files, we add the parent directory to the system path\n",
    "cwd = re.sub(r\"[\\\\]\", \"/\", os.getcwd())\n",
    "cwd_list = cwd.split(\"/\")\n",
    "path = sys.argv[0]\n",
    "path_list = path.split(\"/\")\n",
    "# either the entire filepath is entered as command i python\n",
    "if cwd_list[0:3] == path_list[0:3]:\n",
    "    full_path = path\n",
    "# or a relative path is entered, in which case we append the path to the cwd_path\n",
    "else:\n",
    "    full_path = cwd + \"/\" + path\n",
    "# remove the overlap\n",
    "root_dir = re.search(r\"(^.+python_road_upgrades)\", full_path).group(1)\n",
    "sys.path.append(root_dir)\n",
    "\n",
    "#----------------------------------------------------------------------#\n",
    "\n",
    "def dummy_row_distance(df, dummy, agg_list):\n",
    "    if not isinstance(agg_list, list):\n",
    "        raise ValueError(\"agg_list argument needs to be a list\")\n",
    "    output_index = df.reset_index().set_index([('road', ''), ('subroad', '')])\n",
    "    filtered = df.loc[df[dummy] == 1,]\n",
    "    dist = filtered.reset_index().loc[:, [('road', ''), ('subroad', ''), ('id', '')]].groupby(['road', 'subroad']).diff().fillna(0).values\n",
    "    dist = pd.DataFrame(dist, index=filtered.index).reset_index().rename(columns={0: \"dist\"})\n",
    "    dist = dist.reset_index()#.group_by(['road', 'subroad'])\n",
    "    dist = dist.groupby(['road', 'subroad']).agg({'dist': agg_list})\n",
    "    dist = dist.reindex(df.index.droplevel(2).unique())\n",
    "    return dist\n",
    "\n",
    "folder_name = \"composites_2\"        # directory should exist in Exports/Roads and Exports/Points\n",
    "\n",
    "\n",
    "dir_roads = f\"{root_dir}/Exports/Roads/{folder_name}\"\n",
    "dir_points = f\"{root_dir}/Exports/Points/{folder_name}\"\n",
    "\n",
    "files_roads = os.listdir(dir_roads)\n",
    "files_points = os.listdir(dir_points)"
   ]
  },
  {
   "cell_type": "code",
   "execution_count": 2,
   "outputs": [
    {
     "data": {
      "text/plain": "        road  subroad     type    id  \\\n179        0        0  left_25     0   \n180        0        0  left_25     1   \n181        0        0  left_25     2   \n182        0        0  left_25     3   \n183        0        0  left_25     4   \n...      ...      ...      ...   ...   \n121053   218        0     road  1500   \n110533   218        0     road  1501   \n121054   218        0     road  1501   \n110534   218        0     road  1502   \n121055   218        0     road  1502   \n\n                                           coords  B4_max      B4_mean  \\\n179      [40.09473727528661, -14.093615299623254]   330.0   228.272962   \n180     [40.094849849313206, -14.093757186756775]   204.0   212.598456   \n181       [40.0949624233398, -14.093899073890295]    62.0   159.989597   \n182     [40.095074997366396, -14.094040961023815]  2196.0  1261.910968   \n183      [40.09518757139299, -14.094182848157336]  -132.0   192.713178   \n...                                           ...     ...          ...   \n121053    [37.48840834097069, -17.01079496508643]   457.5   285.161765   \n110533     [37.48836932383648, -17.0106589625043]   626.5   381.546556   \n121054     [37.48836932383648, -17.0106589625043]   626.5   381.546556   \n110534   [37.48833030670226, -17.010522959922174]     9.0   114.116561   \n121055   [37.48833030670226, -17.010522959922174]     9.0   114.116561   \n\n        B4_min  B8_max     B8_mean  B8_min  B4_diff_factor  B8_diff_factor  \n179      399.0  -171.0 -143.633894  -115.0       87.897659      -80.030474  \n180      174.0  -257.0 -268.265122  -339.0       87.897659      -80.030474  \n181      232.0  -269.0 -321.681404  -381.0       87.897659      -80.030474  \n182      987.0   737.0  146.529032  -217.0       87.897659      -80.030474  \n183      179.0    76.0 -119.275194  -360.0       87.897659      -80.030474  \n...        ...     ...         ...     ...             ...             ...  \n121053   248.5   272.5  308.169437   395.0        3.550247      143.710757  \n110533   319.5   581.5  348.328444   280.5        3.550247      143.710757  \n121054   319.5   581.5  348.328444   280.5        3.550247      143.710757  \n110534    40.5   259.0  175.812739    31.0        3.550247      143.710757  \n121055    40.5   259.0  175.812739    31.0        3.550247      143.710757  \n\n[1026109 rows x 13 columns]",
      "text/html": "<div>\n<style scoped>\n    .dataframe tbody tr th:only-of-type {\n        vertical-align: middle;\n    }\n\n    .dataframe tbody tr th {\n        vertical-align: top;\n    }\n\n    .dataframe thead th {\n        text-align: right;\n    }\n</style>\n<table border=\"1\" class=\"dataframe\">\n  <thead>\n    <tr style=\"text-align: right;\">\n      <th></th>\n      <th>road</th>\n      <th>subroad</th>\n      <th>type</th>\n      <th>id</th>\n      <th>coords</th>\n      <th>B4_max</th>\n      <th>B4_mean</th>\n      <th>B4_min</th>\n      <th>B8_max</th>\n      <th>B8_mean</th>\n      <th>B8_min</th>\n      <th>B4_diff_factor</th>\n      <th>B8_diff_factor</th>\n    </tr>\n  </thead>\n  <tbody>\n    <tr>\n      <th>179</th>\n      <td>0</td>\n      <td>0</td>\n      <td>left_25</td>\n      <td>0</td>\n      <td>[40.09473727528661, -14.093615299623254]</td>\n      <td>330.0</td>\n      <td>228.272962</td>\n      <td>399.0</td>\n      <td>-171.0</td>\n      <td>-143.633894</td>\n      <td>-115.0</td>\n      <td>87.897659</td>\n      <td>-80.030474</td>\n    </tr>\n    <tr>\n      <th>180</th>\n      <td>0</td>\n      <td>0</td>\n      <td>left_25</td>\n      <td>1</td>\n      <td>[40.094849849313206, -14.093757186756775]</td>\n      <td>204.0</td>\n      <td>212.598456</td>\n      <td>174.0</td>\n      <td>-257.0</td>\n      <td>-268.265122</td>\n      <td>-339.0</td>\n      <td>87.897659</td>\n      <td>-80.030474</td>\n    </tr>\n    <tr>\n      <th>181</th>\n      <td>0</td>\n      <td>0</td>\n      <td>left_25</td>\n      <td>2</td>\n      <td>[40.0949624233398, -14.093899073890295]</td>\n      <td>62.0</td>\n      <td>159.989597</td>\n      <td>232.0</td>\n      <td>-269.0</td>\n      <td>-321.681404</td>\n      <td>-381.0</td>\n      <td>87.897659</td>\n      <td>-80.030474</td>\n    </tr>\n    <tr>\n      <th>182</th>\n      <td>0</td>\n      <td>0</td>\n      <td>left_25</td>\n      <td>3</td>\n      <td>[40.095074997366396, -14.094040961023815]</td>\n      <td>2196.0</td>\n      <td>1261.910968</td>\n      <td>987.0</td>\n      <td>737.0</td>\n      <td>146.529032</td>\n      <td>-217.0</td>\n      <td>87.897659</td>\n      <td>-80.030474</td>\n    </tr>\n    <tr>\n      <th>183</th>\n      <td>0</td>\n      <td>0</td>\n      <td>left_25</td>\n      <td>4</td>\n      <td>[40.09518757139299, -14.094182848157336]</td>\n      <td>-132.0</td>\n      <td>192.713178</td>\n      <td>179.0</td>\n      <td>76.0</td>\n      <td>-119.275194</td>\n      <td>-360.0</td>\n      <td>87.897659</td>\n      <td>-80.030474</td>\n    </tr>\n    <tr>\n      <th>...</th>\n      <td>...</td>\n      <td>...</td>\n      <td>...</td>\n      <td>...</td>\n      <td>...</td>\n      <td>...</td>\n      <td>...</td>\n      <td>...</td>\n      <td>...</td>\n      <td>...</td>\n      <td>...</td>\n      <td>...</td>\n      <td>...</td>\n    </tr>\n    <tr>\n      <th>121053</th>\n      <td>218</td>\n      <td>0</td>\n      <td>road</td>\n      <td>1500</td>\n      <td>[37.48840834097069, -17.01079496508643]</td>\n      <td>457.5</td>\n      <td>285.161765</td>\n      <td>248.5</td>\n      <td>272.5</td>\n      <td>308.169437</td>\n      <td>395.0</td>\n      <td>3.550247</td>\n      <td>143.710757</td>\n    </tr>\n    <tr>\n      <th>110533</th>\n      <td>218</td>\n      <td>0</td>\n      <td>road</td>\n      <td>1501</td>\n      <td>[37.48836932383648, -17.0106589625043]</td>\n      <td>626.5</td>\n      <td>381.546556</td>\n      <td>319.5</td>\n      <td>581.5</td>\n      <td>348.328444</td>\n      <td>280.5</td>\n      <td>3.550247</td>\n      <td>143.710757</td>\n    </tr>\n    <tr>\n      <th>121054</th>\n      <td>218</td>\n      <td>0</td>\n      <td>road</td>\n      <td>1501</td>\n      <td>[37.48836932383648, -17.0106589625043]</td>\n      <td>626.5</td>\n      <td>381.546556</td>\n      <td>319.5</td>\n      <td>581.5</td>\n      <td>348.328444</td>\n      <td>280.5</td>\n      <td>3.550247</td>\n      <td>143.710757</td>\n    </tr>\n    <tr>\n      <th>110534</th>\n      <td>218</td>\n      <td>0</td>\n      <td>road</td>\n      <td>1502</td>\n      <td>[37.48833030670226, -17.010522959922174]</td>\n      <td>9.0</td>\n      <td>114.116561</td>\n      <td>40.5</td>\n      <td>259.0</td>\n      <td>175.812739</td>\n      <td>31.0</td>\n      <td>3.550247</td>\n      <td>143.710757</td>\n    </tr>\n    <tr>\n      <th>121055</th>\n      <td>218</td>\n      <td>0</td>\n      <td>road</td>\n      <td>1502</td>\n      <td>[37.48833030670226, -17.010522959922174]</td>\n      <td>9.0</td>\n      <td>114.116561</td>\n      <td>40.5</td>\n      <td>259.0</td>\n      <td>175.812739</td>\n      <td>31.0</td>\n      <td>3.550247</td>\n      <td>143.710757</td>\n    </tr>\n  </tbody>\n</table>\n<p>1026109 rows × 13 columns</p>\n</div>"
     },
     "execution_count": 2,
     "metadata": {},
     "output_type": "execute_result"
    }
   ],
   "source": [
    "for r in files_roads:\n",
    "    # r = \"roads_2020_2021_05_07.xlsx\"\n",
    "    if r[0:5] != 'roads':\n",
    "        continue\n",
    "    m = re.search(r\"roads_(\\d+)_(\\d+)_(\\d+)_(\\d+).xlsx\", r)\n",
    "    year1, year2, month1, month2 = m.group(1), m.group(2), m.group(3), m.group(4)\n",
    "\n",
    "    # load in the roads excel file\n",
    "    fp_r = f\"{dir_roads}/{r}\"\n",
    "    df_r = pd.read_excel(fp_r, engine='openpyxl')\n",
    "\n",
    "    # load in the csv points files and merge\n",
    "    df_p = pd.DataFrame()\n",
    "    for p in files_points:\n",
    "        if r[:-5] in p:\n",
    "            fp_p = f\"{dir_points}/{p}\"\n",
    "            imported = pd.read_csv(fp_p)\n",
    "            if df_p.empty:\n",
    "                df_p = imported\n",
    "            else:\n",
    "                df_p = pd.concat([df_p, imported])\n",
    "    df_p = df_p.sort_values(by=[\"road\", \"subroad\", \"type\", \"id\"])\n",
    "    break\n",
    "\n",
    "df_p"
   ],
   "metadata": {
    "collapsed": false,
    "pycharm": {
     "name": "#%%\n"
    }
   }
  }
 ],
 "metadata": {
  "kernelspec": {
   "display_name": "Python 3",
   "language": "python",
   "name": "python3"
  },
  "language_info": {
   "codemirror_mode": {
    "name": "ipython",
    "version": 2
   },
   "file_extension": ".py",
   "mimetype": "text/x-python",
   "name": "python",
   "nbconvert_exporter": "python",
   "pygments_lexer": "ipython2",
   "version": "2.7.6"
  }
 },
 "nbformat": 4,
 "nbformat_minor": 0
}